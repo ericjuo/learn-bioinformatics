{
 "cells": [
  {
   "cell_type": "code",
   "execution_count": null,
   "metadata": {},
   "outputs": [],
   "source": [
    "# f0 = AaBb x AaBb\n",
    "freq= {'AA': {'AA': 0.5, 'Aa': 0.5,'aa': 0}, \n",
    "          'Aa': {'AA': 0.25, 'Aa': 0.5, 'aa': 0.25},\n",
    "          'aa': {'AA': 0, 'Aa': 0.5, 'aa': 0.5}, \n",
    "       'BB': {'BB': 0.5, 'Bb': 0.5, 'bb': 0},\n",
    "       'Bb': {'BB': 0.25, 'Bb': 0.5, 'bb': 0.25},\n",
    "       'bb': {'BB': 0, 'Bb': 0.5, 'bb': 0.5}}\n",
    "k = 2 # generation\n",
    "n = 1 # at least n AaBb organisms\n",
    "assert k <= 7, 'invalid k input'\n",
    "assert n <= 2 ** k, 'invalid n input'\n",
    "\n",
    "f0 = 1 # AaBb\n",
    "pAaBb_gen = [f0]\n",
    "# freq of at least n organisms = p(1AaBb) + p(2AaBb)\n",
    "f1 = (freq['Aa']['Aa'] * freq['Bb']['Bb'])(1 - f)\n",
    "\n"
   ]
  }
 ],
 "metadata": {
  "kernelspec": {
   "display_name": "Python 3",
   "language": "python",
   "name": "python3"
  },
  "language_info": {
   "codemirror_mode": {
    "name": "ipython",
    "version": 3
   },
   "file_extension": ".py",
   "mimetype": "text/x-python",
   "name": "python",
   "nbconvert_exporter": "python",
   "pygments_lexer": "ipython3",
   "version": "3.7.4"
  }
 },
 "nbformat": 4,
 "nbformat_minor": 2
}
